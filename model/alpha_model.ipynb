{
 "cells": [
  {
   "cell_type": "code",
   "execution_count": 1,
   "metadata": {},
   "outputs": [],
   "source": [
    "from dotenv import load_dotenv\n",
    "from os import getenv, listdir\n",
    "from pathlib import PurePath\n",
    "from ultralytics import YOLO\n",
    "from torch import cuda\n",
    "from typing import Final"
   ]
  },
  {
   "cell_type": "code",
   "execution_count": 2,
   "metadata": {},
   "outputs": [
    {
     "name": "stdout",
     "output_type": "stream",
     "text": [
      "You'll train and use model on CUDA!\n"
     ]
    }
   ],
   "source": [
    "load_dotenv('./venv.env')\n",
    "\n",
    "# PATH_TO_YAML: Final[str] = PurePath(\"./YOLO_files/yolov8-cls.yaml\")\n",
    "\n",
    "DATASET_PATH_VAR_NAME: Final[str] = 'TMP_DATASET'\n",
    "PATH_TO_DATASET: Final[str] = getenv(DATASET_PATH_VAR_NAME)\n",
    "\n",
    "if PATH_TO_DATASET is not None:\n",
    "    TMP_DATASET: Final[str] = PurePath(PATH_TO_DATASET)\n",
    "else:\n",
    "    raise Exception(f\"Path to dataset in '{DATASET_PATH_VAR_NAME}' variable is not initialized.\\nCheck your .env file.\")\n",
    "\n",
    "MODEL_PATH_VAR_NAME: Final[str] = 'PRETRAINED_MODEL'\n",
    "PATH_TO_MODEL: Final[str] = getenv(MODEL_PATH_VAR_NAME)\n",
    "\n",
    "if PATH_TO_MODEL is not None:\n",
    "    WEIGHTS_PATH: Final[str] = PurePath(PATH_TO_MODEL)\n",
    "else:\n",
    "    raise Exception(f\"Path to model in '{MODEL_PATH_VAR_NAME}' variable is not initialized.\\nCheck your .env file.\")\n",
    "\n",
    "DEVICE: Final[str] = 'cuda' if cuda.is_available() else 'cpu'\n",
    "print(f\"You'll train and use model on {DEVICE.upper()}!\")"
   ]
  },
  {
   "cell_type": "code",
   "execution_count": null,
   "metadata": {},
   "outputs": [
    {
     "name": "stdout",
     "output_type": "stream",
     "text": [
      "\n",
      "image 1/33 f:\\GItHub\\UrFU\\Virtual Gardener\\model\\New-Plant-Diseases-Dataset(Augmented)\\test\\AppleCedarRust1.JPG: 256x256 Apple___Cedar_apple_rust 1.00, Pepper,_bell___healthy 0.00, Tomato___Target_Spot 0.00, Apple___healthy 0.00, Peach___healthy 0.00, 4.5ms\n",
      "image 2/33 f:\\GItHub\\UrFU\\Virtual Gardener\\model\\New-Plant-Diseases-Dataset(Augmented)\\test\\AppleCedarRust2.JPG: 256x256 Apple___Cedar_apple_rust 1.00, Cherry_(including_sour)___Powdery_mildew 0.00, Grape___Esca_(Black_Measles) 0.00, Apple___healthy 0.00, Corn_(maize)___Cercospora_leaf_spot Gray_leaf_spot 0.00, 5.9ms\n",
      "image 3/33 f:\\GItHub\\UrFU\\Virtual Gardener\\model\\New-Plant-Diseases-Dataset(Augmented)\\test\\AppleCedarRust3.JPG: 256x256 Apple___Cedar_apple_rust 1.00, Apple___Black_rot 0.00, Peach___Bacterial_spot 0.00, Tomato___Bacterial_spot 0.00, Corn_(maize)___Cercospora_leaf_spot Gray_leaf_spot 0.00, 4.5ms\n",
      "image 4/33 f:\\GItHub\\UrFU\\Virtual Gardener\\model\\New-Plant-Diseases-Dataset(Augmented)\\test\\AppleCedarRust4.JPG: 256x256 Apple___Cedar_apple_rust 1.00, Grape___Esca_(Black_Measles) 0.00, Tomato___Bacterial_spot 0.00, Cherry_(including_sour)___Powdery_mildew 0.00, Corn_(maize)___Cercospora_leaf_spot Gray_leaf_spot 0.00, 8.3ms\n",
      "image 5/33 f:\\GItHub\\UrFU\\Virtual Gardener\\model\\New-Plant-Diseases-Dataset(Augmented)\\test\\AppleScab1.JPG: 256x256 Apple___Apple_scab 0.99, Apple___Cedar_apple_rust 0.00, Blueberry___healthy 0.00, Apple___healthy 0.00, Potato___Late_blight 0.00, 5.7ms\n",
      "image 6/33 f:\\GItHub\\UrFU\\Virtual Gardener\\model\\New-Plant-Diseases-Dataset(Augmented)\\test\\AppleScab2.JPG: 256x256 Apple___Apple_scab 1.00, Cherry_(including_sour)___Powdery_mildew 0.00, Tomato___Leaf_Mold 0.00, Peach___Bacterial_spot 0.00, Apple___Cedar_apple_rust 0.00, 6.1ms\n",
      "image 7/33 f:\\GItHub\\UrFU\\Virtual Gardener\\model\\New-Plant-Diseases-Dataset(Augmented)\\test\\AppleScab3.JPG: 256x256 Apple___Apple_scab 1.00, Grape___healthy 0.00, Raspberry___healthy 0.00, Strawberry___healthy 0.00, Grape___Leaf_blight_(Isariopsis_Leaf_Spot) 0.00, 8.3ms\n",
      "image 8/33 f:\\GItHub\\UrFU\\Virtual Gardener\\model\\New-Plant-Diseases-Dataset(Augmented)\\test\\CornCommonRust1.JPG: 256x256 Corn_(maize)___Common_rust_ 1.00, Tomato___Late_blight 0.00, Corn_(maize)___Cercospora_leaf_spot Gray_leaf_spot 0.00, Apple___healthy 0.00, Apple___Cedar_apple_rust 0.00, 5.6ms\n",
      "image 9/33 f:\\GItHub\\UrFU\\Virtual Gardener\\model\\New-Plant-Diseases-Dataset(Augmented)\\test\\CornCommonRust2.JPG: 256x256 Corn_(maize)___Common_rust_ 1.00, Corn_(maize)___Cercospora_leaf_spot Gray_leaf_spot 0.00, Apple___healthy 0.00, Apple___Cedar_apple_rust 0.00, Apple___Black_rot 0.00, 6.3ms\n",
      "image 10/33 f:\\GItHub\\UrFU\\Virtual Gardener\\model\\New-Plant-Diseases-Dataset(Augmented)\\test\\CornCommonRust3.JPG: 256x256 Corn_(maize)___Common_rust_ 1.00, Tomato___Late_blight 0.00, Apple___healthy 0.00, Apple___Cedar_apple_rust 0.00, Corn_(maize)___Cercospora_leaf_spot Gray_leaf_spot 0.00, 6.6ms\n",
      "image 11/33 f:\\GItHub\\UrFU\\Virtual Gardener\\model\\New-Plant-Diseases-Dataset(Augmented)\\test\\PotatoEarlyBlight1.JPG: 256x256 Potato___Early_blight 1.00, Strawberry___Leaf_scorch 0.00, Potato___Late_blight 0.00, Grape___Leaf_blight_(Isariopsis_Leaf_Spot) 0.00, Apple___healthy 0.00, 6.9ms\n",
      "image 12/33 f:\\GItHub\\UrFU\\Virtual Gardener\\model\\New-Plant-Diseases-Dataset(Augmented)\\test\\PotatoEarlyBlight2.JPG: 256x256 Potato___Early_blight 1.00, Potato___Late_blight 0.00, Strawberry___Leaf_scorch 0.00, Tomato___healthy 0.00, Tomato___Late_blight 0.00, 10.8ms\n",
      "image 13/33 f:\\GItHub\\UrFU\\Virtual Gardener\\model\\New-Plant-Diseases-Dataset(Augmented)\\test\\PotatoEarlyBlight3.JPG: 256x256 Potato___Early_blight 1.00, Potato___Late_blight 0.00, Tomato___Early_blight 0.00, Soybean___healthy 0.00, Apple___Apple_scab 0.00, 10.2ms\n",
      "image 14/33 f:\\GItHub\\UrFU\\Virtual Gardener\\model\\New-Plant-Diseases-Dataset(Augmented)\\test\\PotatoEarlyBlight4.JPG: 256x256 Potato___Early_blight 1.00, Pepper,_bell___Bacterial_spot 0.00, Tomato___Septoria_leaf_spot 0.00, Grape___Leaf_blight_(Isariopsis_Leaf_Spot) 0.00, Tomato___Early_blight 0.00, 10.2ms\n",
      "image 15/33 f:\\GItHub\\UrFU\\Virtual Gardener\\model\\New-Plant-Diseases-Dataset(Augmented)\\test\\PotatoEarlyBlight5.JPG: 256x256 Potato___Early_blight 1.00, Apple___Apple_scab 0.00, Potato___Late_blight 0.00, Peach___Bacterial_spot 0.00, Corn_(maize)___Cercospora_leaf_spot Gray_leaf_spot 0.00, 12.7ms\n",
      "image 16/33 f:\\GItHub\\UrFU\\Virtual Gardener\\model\\New-Plant-Diseases-Dataset(Augmented)\\test\\PotatoHealthy1.JPG: 256x256 Potato___healthy 1.00, Potato___Late_blight 0.00, Strawberry___healthy 0.00, Pepper,_bell___healthy 0.00, Potato___Early_blight 0.00, 11.6ms\n",
      "image 17/33 f:\\GItHub\\UrFU\\Virtual Gardener\\model\\New-Plant-Diseases-Dataset(Augmented)\\test\\PotatoHealthy2.JPG: 256x256 Potato___healthy 1.00, Potato___Late_blight 0.00, Strawberry___healthy 0.00, Cherry_(including_sour)___healthy 0.00, Potato___Early_blight 0.00, 28.7ms\n",
      "image 18/33 f:\\GItHub\\UrFU\\Virtual Gardener\\model\\New-Plant-Diseases-Dataset(Augmented)\\test\\TomatoEarlyBlight1.JPG: 256x256 Tomato___Septoria_leaf_spot 0.91, Tomato___Early_blight 0.06, Tomato___Late_blight 0.03, Grape___Leaf_blight_(Isariopsis_Leaf_Spot) 0.00, Potato___Late_blight 0.00, 12.7ms\n",
      "image 19/33 f:\\GItHub\\UrFU\\Virtual Gardener\\model\\New-Plant-Diseases-Dataset(Augmented)\\test\\TomatoEarlyBlight2.JPG: 256x256 Tomato___Early_blight 0.88, Tomato___Late_blight 0.10, Tomato___Bacterial_spot 0.01, Tomato___Septoria_leaf_spot 0.00, Peach___Bacterial_spot 0.00, 7.6ms\n",
      "image 20/33 f:\\GItHub\\UrFU\\Virtual Gardener\\model\\New-Plant-Diseases-Dataset(Augmented)\\test\\TomatoEarlyBlight3.JPG: 256x256 Tomato___Early_blight 0.99, Grape___Black_rot 0.01, Grape___Esca_(Black_Measles) 0.00, Tomato___Septoria_leaf_spot 0.00, Tomato___Spider_mites Two-spotted_spider_mite 0.00, 6.7ms\n",
      "image 21/33 f:\\GItHub\\UrFU\\Virtual Gardener\\model\\New-Plant-Diseases-Dataset(Augmented)\\test\\TomatoEarlyBlight4.JPG: 256x256 Tomato___Early_blight 1.00, Tomato___Bacterial_spot 0.00, Grape___Black_rot 0.00, Grape___Esca_(Black_Measles) 0.00, Tomato___Septoria_leaf_spot 0.00, 6.2ms\n",
      "image 22/33 f:\\GItHub\\UrFU\\Virtual Gardener\\model\\New-Plant-Diseases-Dataset(Augmented)\\test\\TomatoEarlyBlight5.JPG: 256x256 Tomato___Early_blight 0.98, Tomato___Septoria_leaf_spot 0.02, Tomato___Late_blight 0.00, Tomato___Tomato_mosaic_virus 0.00, Tomato___Target_Spot 0.00, 11.4ms\n",
      "image 23/33 f:\\GItHub\\UrFU\\Virtual Gardener\\model\\New-Plant-Diseases-Dataset(Augmented)\\test\\TomatoEarlyBlight6.JPG: 256x256 Tomato___Early_blight 1.00, Tomato___Bacterial_spot 0.00, Tomato___Tomato_mosaic_virus 0.00, Tomato___Septoria_leaf_spot 0.00, Apple___Cedar_apple_rust 0.00, 4.5ms\n",
      "image 24/33 f:\\GItHub\\UrFU\\Virtual Gardener\\model\\New-Plant-Diseases-Dataset(Augmented)\\test\\TomatoHealthy1.JPG: 256x256 Tomato___healthy 1.00, Tomato___Spider_mites Two-spotted_spider_mite 0.00, Tomato___Target_Spot 0.00, Raspberry___healthy 0.00, Apple___healthy 0.00, 6.8ms\n",
      "image 25/33 f:\\GItHub\\UrFU\\Virtual Gardener\\model\\New-Plant-Diseases-Dataset(Augmented)\\test\\TomatoHealthy2.JPG: 256x256 Tomato___healthy 1.00, Tomato___Late_blight 0.00, Apple___healthy 0.00, Tomato___Target_Spot 0.00, Cherry_(including_sour)___healthy 0.00, 6.1ms\n",
      "image 26/33 f:\\GItHub\\UrFU\\Virtual Gardener\\model\\New-Plant-Diseases-Dataset(Augmented)\\test\\TomatoHealthy3.JPG: 256x256 Tomato___healthy 1.00, Tomato___Target_Spot 0.00, Tomato___Leaf_Mold 0.00, Apple___Apple_scab 0.00, Strawberry___healthy 0.00, 5.7ms\n",
      "image 27/33 f:\\GItHub\\UrFU\\Virtual Gardener\\model\\New-Plant-Diseases-Dataset(Augmented)\\test\\TomatoHealthy4.JPG: 256x256 Tomato___healthy 1.00, Tomato___Target_Spot 0.00, Tomato___Spider_mites Two-spotted_spider_mite 0.00, Raspberry___healthy 0.00, Tomato___Tomato_mosaic_virus 0.00, 6.8ms\n",
      "image 28/33 f:\\GItHub\\UrFU\\Virtual Gardener\\model\\New-Plant-Diseases-Dataset(Augmented)\\test\\TomatoYellowCurlVirus1.JPG: 256x256 Tomato___Tomato_Yellow_Leaf_Curl_Virus 1.00, Tomato___Spider_mites Two-spotted_spider_mite 0.00, Tomato___Leaf_Mold 0.00, Raspberry___healthy 0.00, Squash___Powdery_mildew 0.00, 6.4ms\n",
      "image 29/33 f:\\GItHub\\UrFU\\Virtual Gardener\\model\\New-Plant-Diseases-Dataset(Augmented)\\test\\TomatoYellowCurlVirus2.JPG: 256x256 Tomato___Tomato_Yellow_Leaf_Curl_Virus 1.00, Tomato___Spider_mites Two-spotted_spider_mite 0.00, Tomato___Tomato_mosaic_virus 0.00, Raspberry___healthy 0.00, Tomato___Leaf_Mold 0.00, 4.9ms\n",
      "image 30/33 f:\\GItHub\\UrFU\\Virtual Gardener\\model\\New-Plant-Diseases-Dataset(Augmented)\\test\\TomatoYellowCurlVirus3.JPG: 256x256 Tomato___Tomato_Yellow_Leaf_Curl_Virus 1.00, Tomato___Leaf_Mold 0.00, Tomato___Tomato_mosaic_virus 0.00, Tomato___Bacterial_spot 0.00, Tomato___Spider_mites Two-spotted_spider_mite 0.00, 4.7ms\n",
      "image 31/33 f:\\GItHub\\UrFU\\Virtual Gardener\\model\\New-Plant-Diseases-Dataset(Augmented)\\test\\TomatoYellowCurlVirus4.JPG: 256x256 Tomato___Tomato_Yellow_Leaf_Curl_Virus 1.00, Tomato___Bacterial_spot 0.00, Tomato___Spider_mites Two-spotted_spider_mite 0.00, Squash___Powdery_mildew 0.00, Tomato___Tomato_mosaic_virus 0.00, 5.0ms\n",
      "image 32/33 f:\\GItHub\\UrFU\\Virtual Gardener\\model\\New-Plant-Diseases-Dataset(Augmented)\\test\\TomatoYellowCurlVirus5.JPG: 256x256 Tomato___Tomato_Yellow_Leaf_Curl_Virus 1.00, Tomato___Bacterial_spot 0.00, Tomato___Early_blight 0.00, Tomato___Late_blight 0.00, Tomato___Target_Spot 0.00, 6.2ms\n",
      "image 33/33 f:\\GItHub\\UrFU\\Virtual Gardener\\model\\New-Plant-Diseases-Dataset(Augmented)\\test\\TomatoYellowCurlVirus6.JPG: 256x256 Tomato___Tomato_Yellow_Leaf_Curl_Virus 1.00, Tomato___Bacterial_spot 0.00, Orange___Haunglongbing_(Citrus_greening) 0.00, Tomato___Spider_mites Two-spotted_spider_mite 0.00, Tomato___healthy 0.00, 8.4ms\n",
      "Speed: 4.2ms preprocess, 8.0ms inference, 0.2ms postprocess per image at shape (1, 3, 256, 256)\n",
      "AppleCedarRust1 Apple___Cedar_apple_rust\n",
      "AppleCedarRust2 Apple___Cedar_apple_rust\n",
      "AppleCedarRust3 Apple___Cedar_apple_rust\n",
      "AppleCedarRust4 Apple___Cedar_apple_rust\n",
      "AppleScab1 Apple___Apple_scab\n",
      "AppleScab2 Apple___Apple_scab\n",
      "AppleScab3 Apple___Apple_scab\n",
      "CornCommonRust1 Corn_(maize)___Common_rust_\n",
      "CornCommonRust2 Corn_(maize)___Common_rust_\n",
      "CornCommonRust3 Corn_(maize)___Common_rust_\n",
      "PotatoEarlyBlight1 Potato___Early_blight\n",
      "PotatoEarlyBlight2 Potato___Early_blight\n",
      "PotatoEarlyBlight3 Potato___Early_blight\n",
      "PotatoEarlyBlight4 Potato___Early_blight\n",
      "PotatoEarlyBlight5 Potato___Early_blight\n",
      "PotatoHealthy1 Potato___healthy\n",
      "PotatoHealthy2 Potato___healthy\n",
      "TomatoEarlyBlight1 Tomato___Septoria_leaf_spot\n",
      "TomatoEarlyBlight2 Tomato___Early_blight\n",
      "TomatoEarlyBlight3 Tomato___Early_blight\n",
      "TomatoEarlyBlight4 Tomato___Early_blight\n",
      "TomatoEarlyBlight5 Tomato___Early_blight\n",
      "TomatoEarlyBlight6 Tomato___Early_blight\n",
      "TomatoHealthy1 Tomato___healthy\n",
      "TomatoHealthy2 Tomato___healthy\n",
      "TomatoHealthy3 Tomato___healthy\n",
      "TomatoHealthy4 Tomato___healthy\n",
      "TomatoYellowCurlVirus1 Tomato___Tomato_Yellow_Leaf_Curl_Virus\n",
      "TomatoYellowCurlVirus2 Tomato___Tomato_Yellow_Leaf_Curl_Virus\n",
      "TomatoYellowCurlVirus3 Tomato___Tomato_Yellow_Leaf_Curl_Virus\n",
      "TomatoYellowCurlVirus4 Tomato___Tomato_Yellow_Leaf_Curl_Virus\n",
      "TomatoYellowCurlVirus5 Tomato___Tomato_Yellow_Leaf_Curl_Virus\n",
      "TomatoYellowCurlVirus6 Tomato___Tomato_Yellow_Leaf_Curl_Virus\n"
     ]
    }
   ],
   "source": [
    "# YOLOv8; trained v0.1\n",
    "\n",
    "PATH_TO_TEST_DATASET: Final[str] = PurePath(TMP_DATASET / 'test/')\n",
    "\n",
    "model = YOLO(WEIGHTS_PATH, task='classify')\n",
    "class_names = model.names\n",
    "\n",
    "results = model.predict(source=str(PATH_TO_TEST_DATASET), device=DEVICE, imgsz=256)\n",
    "for result, img in zip(results, listdir(PATH_TO_TEST_DATASET)):\n",
    "    print(img[:-4], class_names[int(result.probs.top1)])"
   ]
  },
  {
   "cell_type": "code",
   "execution_count": null,
   "metadata": {},
   "outputs": [],
   "source": []
  }
 ],
 "metadata": {
  "kernelspec": {
   "display_name": "Python 3",
   "language": "python",
   "name": "python3"
  },
  "language_info": {
   "codemirror_mode": {
    "name": "ipython",
    "version": 3
   },
   "file_extension": ".py",
   "mimetype": "text/x-python",
   "name": "python",
   "nbconvert_exporter": "python",
   "pygments_lexer": "ipython3",
   "version": "3.12.9"
  }
 },
 "nbformat": 4,
 "nbformat_minor": 2
}
